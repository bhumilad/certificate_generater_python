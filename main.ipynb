{
 "cells": [
  {
   "cell_type": "code",
   "execution_count": 1,
   "metadata": {},
   "outputs": [],
   "source": [
    "# import the necessary libraries\n",
    "\n",
    "import cv2 as cv\n",
    "import openpyxl"
   ]
  },
  {
   "cell_type": "code",
   "execution_count": 2,
   "metadata": {},
   "outputs": [],
   "source": [
    "# certificate format.png is the template\n",
    "# certificate\n",
    "template_path = \"certificate formate.png\""
   ]
  },
  {
   "cell_type": "code",
   "execution_count": 3,
   "metadata": {},
   "outputs": [],
   "source": [
    "# excel file containing names of the participants\n",
    "details_path = \"data.xlsx\""
   ]
  },
  {
   "cell_type": "code",
   "execution_count": 4,
   "metadata": {},
   "outputs": [],
   "source": [
    "# output paths\n",
    "output_path = \"C://Users//admin//Desktop//all my video//certificate generator project\""
   ]
  },
  {
   "cell_type": "code",
   "execution_count": 5,
   "metadata": {},
   "outputs": [],
   "source": [
    "# setting the font size and font colour\n",
    "font_size = 10\n",
    "font_color = (1,1,1)"
   ]
  },
  {
   "cell_type": "code",
   "execution_count": 6,
   "metadata": {},
   "outputs": [],
   "source": [
    "# coordinates on the certificate where will be printing the name (set according to your own template)\n",
    "coordinate_y = 5\n",
    "coordinate_x = 20"
   ]
  },
  {
   "cell_type": "code",
   "execution_count": 7,
   "metadata": {},
   "outputs": [],
   "source": [
    "# loading the data.xlsx workbook and grabbing the active sheet\n",
    "obj = openpyxl.load_workbook(details_path)\n",
    "sheet = obj.active"
   ]
  },
  {
   "cell_type": "code",
   "execution_count": 8,
   "metadata": {},
   "outputs": [
    {
     "name": "stdout",
     "output_type": "stream",
     "text": [
      "choose number between 1 to 10:\n",
      "1\n"
     ]
    }
   ],
   "source": [
    "# printing for the first 10 names in excel sheet\n",
    "number = int(input(\"choose number between 1 to 10:\\n\"))\n",
    "for i in range(1,number+1):\n",
    "    # grabs the rows=i and column=1 cell\n",
    "    # that contains the name value of that \n",
    "    # cell is stored in the variables certi_name \n",
    "    get_name = sheet.cell(row = i , column = 1)\n",
    "    certi_name  = get_name.value\n",
    "    \n",
    "    # read ceritificate template\n",
    "    img = cv.imread(template_path)\n",
    "    \n",
    "    # choose the font from opencv\n",
    "    font = cv.FONT_HERSHEY_PLAIN\n",
    "    \n",
    "    # get the size of the name to be printed\n",
    "    text_size = cv.getTextSize(certi_name,font,font_size,10)[0]\n",
    "    \n",
    "    # get the (x,y) coordinates where the\n",
    "    # name is to written on the template\n",
    "    # The function cv.putText accepts only\n",
    "    # integer arguments so convert it into 'int'.\n",
    "    text_x = (img.shape[1] - text_size[0]) / 2 + coordinate_x\n",
    "    text_y = (img.shape[0] + text_size[1]) / 2 - coordinate_y\n",
    "    text_x = int(text_x)\n",
    "    text_y = int(text_y)\n",
    "    cv.putText(img, certi_name,\n",
    "              (text_x ,text_y ), \n",
    "              font,\n",
    "              font_size,\n",
    "              font_color, 10)\n",
    "   "
   ]
  },
  {
   "cell_type": "code",
   "execution_count": 9,
   "metadata": {},
   "outputs": [],
   "source": [
    "    # Output path along with the name of the\n",
    "    # certificate generated\n",
    "    \n",
    "    certi_path = output_path + '/certificate' + '.png'\n",
    "    "
   ]
  },
  {
   "cell_type": "code",
   "execution_count": 10,
   "metadata": {},
   "outputs": [
    {
     "data": {
      "text/plain": [
       "True"
      ]
     },
     "execution_count": 10,
     "metadata": {},
     "output_type": "execute_result"
    }
   ],
   "source": [
    " # Save the certificate                      \n",
    "cv.imwrite(certi_path,img)"
   ]
  },
  {
   "cell_type": "code",
   "execution_count": null,
   "metadata": {},
   "outputs": [],
   "source": []
  }
 ],
 "metadata": {
  "kernelspec": {
   "display_name": "Python 3",
   "language": "python",
   "name": "python3"
  },
  "language_info": {
   "codemirror_mode": {
    "name": "ipython",
    "version": 3
   },
   "file_extension": ".py",
   "mimetype": "text/x-python",
   "name": "python",
   "nbconvert_exporter": "python",
   "pygments_lexer": "ipython3",
   "version": "3.8.3"
  }
 },
 "nbformat": 4,
 "nbformat_minor": 4
}
